{
 "cells": [
  {
   "cell_type": "markdown",
   "metadata": {},
   "source": [
    "# 1) getting all the links for all cars in 1222 tab on the website"
   ]
  },
  {
   "cell_type": "code",
   "execution_count": 1,
   "metadata": {},
   "outputs": [],
   "source": [
    "from selenium import webdriver\n",
    "from selenium.webdriver.chrome.service import Service\n",
    "from webdriver_manager.chrome import ChromeDriverManager\n",
    "\n",
    "driver = webdriver.Chrome(service=Service(ChromeDriverManager().install()))\n",
    "links=[]\n",
    "for n in range (1,1223):\n",
    "    driver.get(f\"https://eg.hatla2ee.com/en/car/page/{str(n)}\")\n",
    "    for i in range(1,43):\n",
    "        elems=driver.find_elements_by_css_selector(\"#listCar-container > div.CarListWrapper > div:nth-child(\"+str(i)+\") > div > div.newCarListUnit_data_wrap > div.newCarListUnit_data_contain > div.newCarListUnit_header > span > a\") \n",
    "        for elem in elems:\n",
    "            links.append(elem.get_attribute('href'))\n",
    "    "
   ]
  },
  {
   "cell_type": "markdown",
   "metadata": {},
   "source": [
    "# 2) going to each link in the links list we created ,\n",
    "## getting the information for each car in those links "
   ]
  },
  {
   "cell_type": "code",
   "execution_count": 2,
   "metadata": {},
   "outputs": [],
   "source": [
    "from selenium import webdriver\n",
    "from selenium.webdriver.chrome.service import Service\n",
    "from webdriver_manager.chrome import ChromeDriverManager\n",
    "from selenium.common.exceptions import NoSuchElementException\n",
    "\n",
    "driver = webdriver.Chrome(service=Service(ChromeDriverManager().install()))\n",
    "cars=[]\n",
    "for l in links: \n",
    "    driver.get(l)\n",
    "    driver.implicitly_wait(10)\n",
    "    try:\n",
    "        cardata=driver.find_elements_by_xpath(\"//*[@id='UpperContent']/div/div[4]/div[2]/div[2]/div[2]/div/div[2]/div[1]/div/div\")\n",
    "        equipments=driver.find_elements_by_xpath(\"//*[@id='UpperContent']/div/div[4]/div[3]/div/div\")\n",
    "        price=driver.find_element_by_xpath(\"//*[@id='UpperContent']/div/div[4]/div[2]/div[1]/div/div/span\")\n",
    "        carlis=[]\n",
    "        for d in cardata:\n",
    "            if 'Class' in d.text:\n",
    "                cardata.remove(d)\n",
    "            else:\n",
    "                carlis.append(d.text)\n",
    "        for e in equipments:\n",
    "            carlis.append(e.text)\n",
    "        carlis.append(price.text)\n",
    "        cars.append(carlis)\n",
    "    except NoSuchElementException:\n",
    "        cars.append([\"Element not found\"])"
   ]
  },
  {
   "cell_type": "markdown",
   "metadata": {},
   "source": [
    "# 3) saving the list of cars we created"
   ]
  },
  {
   "cell_type": "code",
   "execution_count": 3,
   "metadata": {},
   "outputs": [],
   "source": [
    "import pickle\n",
    "l = cars\n",
    "with open(\"test\", \"wb\") as fp:   #Pickling    \n",
    "    pickle.dump(l, fp)"
   ]
  }
 ],
 "metadata": {
  "kernelspec": {
   "display_name": "Python 3",
   "language": "python",
   "name": "python3"
  },
  "language_info": {
   "codemirror_mode": {
    "name": "ipython",
    "version": 3
   },
   "file_extension": ".py",
   "mimetype": "text/x-python",
   "name": "python",
   "nbconvert_exporter": "python",
   "pygments_lexer": "ipython3",
   "version": "3.7.6"
  }
 },
 "nbformat": 4,
 "nbformat_minor": 4
}
